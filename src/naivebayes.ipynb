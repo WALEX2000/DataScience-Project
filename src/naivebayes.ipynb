{
 "cells": [
  {
   "cell_type": "code",
   "execution_count": 52,
   "metadata": {},
   "outputs": [],
   "source": [
    "import pandas as pd # needed for most operation\n",
    "import numpy as np # needed for some array operations\n",
    "from matplotlib import pyplot as plt #used for plots\n",
    "import seaborn as sns\n",
    "from sklearn.naive_bayes import GaussianNB\n",
    "from sklearn.model_selection import train_test_split\n",
    "from sklearn.metrics import classification_report, confusion_matrix\n",
    "from sklearn.metrics import ConfusionMatrixDisplay\n",
    "from sklearn import metrics"
   ]
  },
  {
   "cell_type": "code",
   "execution_count": 65,
   "metadata": {},
   "outputs": [
    {
     "data": {
      "text/html": [
       "<div>\n",
       "<style scoped>\n",
       "    .dataframe tbody tr th:only-of-type {\n",
       "        vertical-align: middle;\n",
       "    }\n",
       "\n",
       "    .dataframe tbody tr th {\n",
       "        vertical-align: top;\n",
       "    }\n",
       "\n",
       "    .dataframe thead th {\n",
       "        text-align: right;\n",
       "    }\n",
       "</style>\n",
       "<table border=\"1\" class=\"dataframe\">\n",
       "  <thead>\n",
       "    <tr style=\"text-align: right;\">\n",
       "      <th></th>\n",
       "      <th>Treatment</th>\n",
       "      <th>Fever</th>\n",
       "      <th>Duration_of_pain</th>\n",
       "      <th>Sick_leave</th>\n",
       "      <th>Earlier_hospitalization</th>\n",
       "      <th>Familiy_history</th>\n",
       "      <th>Depression</th>\n",
       "      <th>Extremely_nervous</th>\n",
       "      <th>Stress</th>\n",
       "      <th>Irrational_thoughts_risk_lasting</th>\n",
       "      <th>Irrational_thoughts_work</th>\n",
       "      <th>Coping_strategy</th>\n",
       "      <th>Kinesiophobia_physical_exercise</th>\n",
       "      <th>Kinesiophobia_pain_stop</th>\n",
       "      <th>Age</th>\n",
       "      <th>Uses_analgesics</th>\n",
       "      <th>Uses_corticosteroids</th>\n",
       "      <th>Serious_disease</th>\n",
       "      <th>Neurogenic_signals</th>\n",
       "      <th>Continuous_pain</th>\n",
       "      <th>Decreased_mobility</th>\n",
       "      <th>Nocturnal_pain</th>\n",
       "      <th>Weightloss_per_year</th>\n",
       "      <th>Loss_muscle_strength</th>\n",
       "      <th>Failure_symptoms</th>\n",
       "      <th>Incoordination</th>\n",
       "      <th>neck_pain_intensity</th>\n",
       "      <th>low_back_pain_intensity</th>\n",
       "      <th>arm_left_pain_intensity</th>\n",
       "      <th>arm_right_pain_intensity</th>\n",
       "      <th>leg_left_pain_intensity</th>\n",
       "      <th>leg_right_pain_intensity</th>\n",
       "      <th>Paidwork</th>\n",
       "    </tr>\n",
       "  </thead>\n",
       "  <tbody>\n",
       "    <tr>\n",
       "      <th>0</th>\n",
       "      <td>1.0</td>\n",
       "      <td>0.0</td>\n",
       "      <td>4.0</td>\n",
       "      <td>0.0</td>\n",
       "      <td>0.0</td>\n",
       "      <td>0.0</td>\n",
       "      <td>0.0</td>\n",
       "      <td>6.0</td>\n",
       "      <td>0.0</td>\n",
       "      <td>6.0</td>\n",
       "      <td>9.000000</td>\n",
       "      <td>5.0</td>\n",
       "      <td>7.0</td>\n",
       "      <td>8.0</td>\n",
       "      <td>5.0</td>\n",
       "      <td>1.0</td>\n",
       "      <td>0.0</td>\n",
       "      <td>0.0</td>\n",
       "      <td>1.0</td>\n",
       "      <td>1.0</td>\n",
       "      <td>49.0</td>\n",
       "      <td>1.0</td>\n",
       "      <td>4.000000</td>\n",
       "      <td>0.0</td>\n",
       "      <td>1.0</td>\n",
       "      <td>0.000000</td>\n",
       "      <td>0.0</td>\n",
       "      <td>8.0</td>\n",
       "      <td>0.0</td>\n",
       "      <td>0.0</td>\n",
       "      <td>0.0</td>\n",
       "      <td>8.0</td>\n",
       "      <td>0.0</td>\n",
       "    </tr>\n",
       "    <tr>\n",
       "      <th>1</th>\n",
       "      <td>1.0</td>\n",
       "      <td>0.0</td>\n",
       "      <td>10.0</td>\n",
       "      <td>1.0</td>\n",
       "      <td>1.0</td>\n",
       "      <td>0.0</td>\n",
       "      <td>0.0</td>\n",
       "      <td>5.0</td>\n",
       "      <td>1.0</td>\n",
       "      <td>4.0</td>\n",
       "      <td>6.709114</td>\n",
       "      <td>8.0</td>\n",
       "      <td>9.0</td>\n",
       "      <td>9.0</td>\n",
       "      <td>8.0</td>\n",
       "      <td>1.0</td>\n",
       "      <td>0.0</td>\n",
       "      <td>0.0</td>\n",
       "      <td>1.0</td>\n",
       "      <td>1.0</td>\n",
       "      <td>36.0</td>\n",
       "      <td>1.0</td>\n",
       "      <td>2.635424</td>\n",
       "      <td>1.0</td>\n",
       "      <td>1.0</td>\n",
       "      <td>1.000000</td>\n",
       "      <td>0.0</td>\n",
       "      <td>6.0</td>\n",
       "      <td>0.0</td>\n",
       "      <td>0.0</td>\n",
       "      <td>0.0</td>\n",
       "      <td>8.0</td>\n",
       "      <td>0.0</td>\n",
       "    </tr>\n",
       "    <tr>\n",
       "      <th>2</th>\n",
       "      <td>1.0</td>\n",
       "      <td>0.0</td>\n",
       "      <td>10.0</td>\n",
       "      <td>0.0</td>\n",
       "      <td>1.0</td>\n",
       "      <td>0.0</td>\n",
       "      <td>0.0</td>\n",
       "      <td>0.0</td>\n",
       "      <td>1.0</td>\n",
       "      <td>10.0</td>\n",
       "      <td>10.000000</td>\n",
       "      <td>0.0</td>\n",
       "      <td>10.0</td>\n",
       "      <td>10.0</td>\n",
       "      <td>4.0</td>\n",
       "      <td>0.0</td>\n",
       "      <td>0.0</td>\n",
       "      <td>0.0</td>\n",
       "      <td>0.0</td>\n",
       "      <td>1.0</td>\n",
       "      <td>68.0</td>\n",
       "      <td>1.0</td>\n",
       "      <td>4.000000</td>\n",
       "      <td>0.0</td>\n",
       "      <td>1.0</td>\n",
       "      <td>0.047652</td>\n",
       "      <td>0.0</td>\n",
       "      <td>10.0</td>\n",
       "      <td>0.0</td>\n",
       "      <td>0.0</td>\n",
       "      <td>9.0</td>\n",
       "      <td>9.0</td>\n",
       "      <td>1.0</td>\n",
       "    </tr>\n",
       "    <tr>\n",
       "      <th>3</th>\n",
       "      <td>1.0</td>\n",
       "      <td>0.0</td>\n",
       "      <td>10.0</td>\n",
       "      <td>0.0</td>\n",
       "      <td>1.0</td>\n",
       "      <td>0.0</td>\n",
       "      <td>0.0</td>\n",
       "      <td>8.0</td>\n",
       "      <td>1.0</td>\n",
       "      <td>8.0</td>\n",
       "      <td>6.000000</td>\n",
       "      <td>7.0</td>\n",
       "      <td>8.0</td>\n",
       "      <td>8.0</td>\n",
       "      <td>6.0</td>\n",
       "      <td>0.0</td>\n",
       "      <td>0.0</td>\n",
       "      <td>0.0</td>\n",
       "      <td>1.0</td>\n",
       "      <td>1.0</td>\n",
       "      <td>53.0</td>\n",
       "      <td>0.0</td>\n",
       "      <td>2.000000</td>\n",
       "      <td>1.0</td>\n",
       "      <td>1.0</td>\n",
       "      <td>1.000000</td>\n",
       "      <td>0.0</td>\n",
       "      <td>6.0</td>\n",
       "      <td>0.0</td>\n",
       "      <td>0.0</td>\n",
       "      <td>0.0</td>\n",
       "      <td>0.0</td>\n",
       "      <td>1.0</td>\n",
       "    </tr>\n",
       "    <tr>\n",
       "      <th>4</th>\n",
       "      <td>1.0</td>\n",
       "      <td>1.0</td>\n",
       "      <td>10.0</td>\n",
       "      <td>0.0</td>\n",
       "      <td>1.0</td>\n",
       "      <td>0.0</td>\n",
       "      <td>0.0</td>\n",
       "      <td>0.0</td>\n",
       "      <td>1.0</td>\n",
       "      <td>10.0</td>\n",
       "      <td>0.000000</td>\n",
       "      <td>3.0</td>\n",
       "      <td>10.0</td>\n",
       "      <td>10.0</td>\n",
       "      <td>5.0</td>\n",
       "      <td>0.0</td>\n",
       "      <td>0.0</td>\n",
       "      <td>1.0</td>\n",
       "      <td>1.0</td>\n",
       "      <td>1.0</td>\n",
       "      <td>40.0</td>\n",
       "      <td>1.0</td>\n",
       "      <td>3.000000</td>\n",
       "      <td>0.0</td>\n",
       "      <td>1.0</td>\n",
       "      <td>1.000000</td>\n",
       "      <td>0.0</td>\n",
       "      <td>8.0</td>\n",
       "      <td>0.0</td>\n",
       "      <td>0.0</td>\n",
       "      <td>6.0</td>\n",
       "      <td>3.0</td>\n",
       "      <td>0.0</td>\n",
       "    </tr>\n",
       "  </tbody>\n",
       "</table>\n",
       "</div>"
      ],
      "text/plain": [
       "   Treatment  Fever  Duration_of_pain  Sick_leave  Earlier_hospitalization  \\\n",
       "0        1.0    0.0               4.0         0.0                      0.0   \n",
       "1        1.0    0.0              10.0         1.0                      1.0   \n",
       "2        1.0    0.0              10.0         0.0                      1.0   \n",
       "3        1.0    0.0              10.0         0.0                      1.0   \n",
       "4        1.0    1.0              10.0         0.0                      1.0   \n",
       "\n",
       "   Familiy_history  Depression  Extremely_nervous  Stress  \\\n",
       "0              0.0         0.0                6.0     0.0   \n",
       "1              0.0         0.0                5.0     1.0   \n",
       "2              0.0         0.0                0.0     1.0   \n",
       "3              0.0         0.0                8.0     1.0   \n",
       "4              0.0         0.0                0.0     1.0   \n",
       "\n",
       "   Irrational_thoughts_risk_lasting  Irrational_thoughts_work  \\\n",
       "0                               6.0                  9.000000   \n",
       "1                               4.0                  6.709114   \n",
       "2                              10.0                 10.000000   \n",
       "3                               8.0                  6.000000   \n",
       "4                              10.0                  0.000000   \n",
       "\n",
       "   Coping_strategy  Kinesiophobia_physical_exercise  Kinesiophobia_pain_stop  \\\n",
       "0              5.0                              7.0                      8.0   \n",
       "1              8.0                              9.0                      9.0   \n",
       "2              0.0                             10.0                     10.0   \n",
       "3              7.0                              8.0                      8.0   \n",
       "4              3.0                             10.0                     10.0   \n",
       "\n",
       "   Age  Uses_analgesics  Uses_corticosteroids  Serious_disease  \\\n",
       "0  5.0              1.0                   0.0              0.0   \n",
       "1  8.0              1.0                   0.0              0.0   \n",
       "2  4.0              0.0                   0.0              0.0   \n",
       "3  6.0              0.0                   0.0              0.0   \n",
       "4  5.0              0.0                   0.0              1.0   \n",
       "\n",
       "   Neurogenic_signals  Continuous_pain  Decreased_mobility  Nocturnal_pain  \\\n",
       "0                 1.0              1.0                49.0             1.0   \n",
       "1                 1.0              1.0                36.0             1.0   \n",
       "2                 0.0              1.0                68.0             1.0   \n",
       "3                 1.0              1.0                53.0             0.0   \n",
       "4                 1.0              1.0                40.0             1.0   \n",
       "\n",
       "   Weightloss_per_year  Loss_muscle_strength  Failure_symptoms  \\\n",
       "0             4.000000                   0.0               1.0   \n",
       "1             2.635424                   1.0               1.0   \n",
       "2             4.000000                   0.0               1.0   \n",
       "3             2.000000                   1.0               1.0   \n",
       "4             3.000000                   0.0               1.0   \n",
       "\n",
       "   Incoordination  neck_pain_intensity  low_back_pain_intensity  \\\n",
       "0        0.000000                  0.0                      8.0   \n",
       "1        1.000000                  0.0                      6.0   \n",
       "2        0.047652                  0.0                     10.0   \n",
       "3        1.000000                  0.0                      6.0   \n",
       "4        1.000000                  0.0                      8.0   \n",
       "\n",
       "   arm_left_pain_intensity  arm_right_pain_intensity  leg_left_pain_intensity  \\\n",
       "0                      0.0                       0.0                      0.0   \n",
       "1                      0.0                       0.0                      0.0   \n",
       "2                      0.0                       0.0                      9.0   \n",
       "3                      0.0                       0.0                      0.0   \n",
       "4                      0.0                       0.0                      6.0   \n",
       "\n",
       "   leg_right_pain_intensity  Paidwork  \n",
       "0                       8.0       0.0  \n",
       "1                       8.0       0.0  \n",
       "2                       9.0       1.0  \n",
       "3                       0.0       1.0  \n",
       "4                       3.0       0.0  "
      ]
     },
     "execution_count": 65,
     "metadata": {},
     "output_type": "execute_result"
    }
   ],
   "source": [
    "pd.set_option('display.max_columns', None)\n",
    "pd.set_option('display.max_rows', None)\n",
    "trainingSet = pd.read_pickle(\"../data/SmoteData\")\n",
    "testSet = pd.read_pickle(\"../data/IterImput_Test\")\n",
    "trainingSet.head()"
   ]
  },
  {
   "cell_type": "code",
   "execution_count": 66,
   "metadata": {},
   "outputs": [
    {
     "data": {
      "text/plain": [
       "GaussianNB()"
      ]
     },
     "execution_count": 66,
     "metadata": {},
     "output_type": "execute_result"
    }
   ],
   "source": [
    "#Create a Gaussian Classifier\n",
    "model = GaussianNB()\n",
    "\n",
    "# Train the model using the training sets\n",
    "model.fit(trainingSet.loc[:, trainingSet.columns != 'Treatment'], trainingSet['Treatment'])"
   ]
  },
  {
   "cell_type": "code",
   "execution_count": 67,
   "metadata": {},
   "outputs": [
    {
     "name": "stdout",
     "output_type": "stream",
     "text": [
      "              precision    recall  f1-score   support\n",
      "\n",
      "         1.0       0.54      0.22      0.31       128\n",
      "         2.0       0.26      0.20      0.23        30\n",
      "         3.0       0.03      0.62      0.06         8\n",
      "         5.0       0.50      0.21      0.30       141\n",
      "\n",
      "    accuracy                           0.22       307\n",
      "   macro avg       0.33      0.31      0.22       307\n",
      "weighted avg       0.48      0.22      0.29       307\n",
      "\n"
     ]
    },
    {
     "data": {
      "image/png": "[encoded data removed]",
      "text/plain": [
       "<Figure size 432x288 with 2 Axes>"
      ]
     },
     "metadata": {
      "needs_background": "light"
     },
     "output_type": "display_data"
    },
    {
     "data": {
      "text/plain": [
       "0.40108303249097477"
      ]
     },
     "execution_count": 67,
     "metadata": {},
     "output_type": "execute_result"
    }
   ],
   "source": [
    "testSetFeatures = testSet.loc[:, trainingSet.columns != 'Treatment']\n",
    "testSetLabels = testSet['Treatment']\n",
    "\n",
    "predictions = model.predict(testSetFeatures)\n",
    "print(classification_report(testSetLabels.values,predictions))\n",
    "\n",
    "ConfusionMatrixDisplay.from_predictions(testSetLabels.values,predictions)\n",
    "plt.show()\n",
    "\n",
    "fpr, tpr, thresholds = metrics.roc_curve(testSetLabels.values, predictions, pos_label=2)\n",
    "metrics.auc(fpr, tpr)"
   ]
  },
  {
   "cell_type": "code",
   "execution_count": 58,
   "metadata": {},
   "outputs": [
    {
     "data": {
      "text/plain": [
       "GaussianNB()"
      ]
     },
     "execution_count": 58,
     "metadata": {},
     "output_type": "execute_result"
    }
   ],
   "source": [
    "# Do 2 Naive Bayes instead of just one\n",
    "naiveBayes1 = GaussianNB() #classify between 1,5 and others\n",
    "\n",
    "trainingFirst = trainingSet.copy()\n",
    "trainingFirst.loc[trainingFirst['Treatment'] == 2,'Treatment'] = -1\n",
    "trainingFirst.loc[trainingFirst['Treatment'] == 3,'Treatment'] = -1\n",
    "tetsFirst = testSet.copy()\n",
    "tetsFirst.loc[tetsFirst['Treatment'] == 2,'Treatment'] = -1\n",
    "tetsFirst.loc[tetsFirst['Treatment'] == 3,'Treatment'] = -1\n",
    "\n",
    "naiveBayes1.fit(trainingFirst.loc[:, trainingFirst.columns != 'Treatment'], trainingFirst['Treatment'])"
   ]
  },
  {
   "cell_type": "code",
   "execution_count": 59,
   "metadata": {},
   "outputs": [
    {
     "name": "stdout",
     "output_type": "stream",
     "text": [
      "              precision    recall  f1-score   support\n",
      "\n",
      "        -1.0       0.32      0.32      0.32        38\n",
      "         1.0       0.50      0.43      0.46       128\n",
      "         5.0       0.53      0.60      0.56       141\n",
      "\n",
      "    accuracy                           0.49       307\n",
      "   macro avg       0.45      0.45      0.45       307\n",
      "weighted avg       0.49      0.49      0.49       307\n",
      "\n"
     ]
    },
    {
     "data": {
      "image/png": "[encoded data removed]",
      "text/plain": [
       "<Figure size 432x288 with 2 Axes>"
      ]
     },
     "metadata": {
      "needs_background": "light"
     },
     "output_type": "display_data"
    }
   ],
   "source": [
    "tetsFirstFeatures = tetsFirst.loc[:, tetsFirst.columns != 'Treatment']\n",
    "testFirstLabels = tetsFirst['Treatment']\n",
    "\n",
    "predictionsFirst = naiveBayes1.predict(tetsFirstFeatures)\n",
    "print(classification_report(testFirstLabels.values,predictionsFirst))\n",
    "\n",
    "ConfusionMatrixDisplay.from_predictions(testFirstLabels.values,predictionsFirst)\n",
    "plt.show()"
   ]
  },
  {
   "cell_type": "code",
   "execution_count": 60,
   "metadata": {},
   "outputs": [
    {
     "data": {
      "text/plain": [
       "GaussianNB()"
      ]
     },
     "execution_count": 60,
     "metadata": {},
     "output_type": "execute_result"
    }
   ],
   "source": [
    "# Do 2 Naive Bayes instead of just one\n",
    "naiveBayes2 = GaussianNB() #classify between 2 and 3\n",
    "\n",
    "trainingSecond = trainingSet.loc[(trainingSet['Treatment'] == 2) | (trainingSet['Treatment'] == 3)]\n",
    "tetsSecond = testSet.loc[(testSet['Treatment'] == 2) | (testSet['Treatment'] == 3)]\n",
    "\n",
    "naiveBayes2.fit(trainingSecond.loc[:, trainingSecond.columns != 'Treatment'], trainingSecond['Treatment'])"
   ]
  },
  {
   "cell_type": "code",
   "execution_count": 61,
   "metadata": {},
   "outputs": [
    {
     "name": "stdout",
     "output_type": "stream",
     "text": [
      "              precision    recall  f1-score   support\n",
      "\n",
      "         2.0       0.92      0.37      0.52        30\n",
      "         3.0       0.27      0.88      0.41         8\n",
      "\n",
      "    accuracy                           0.47        38\n",
      "   macro avg       0.59      0.62      0.47        38\n",
      "weighted avg       0.78      0.47      0.50        38\n",
      "\n"
     ]
    },
    {
     "data": {
      "image/png": "[encoded data removed]",
      "text/plain": [
       "<Figure size 432x288 with 2 Axes>"
      ]
     },
     "metadata": {
      "needs_background": "light"
     },
     "output_type": "display_data"
    }
   ],
   "source": [
    "tetsSecondFeatures = tetsSecond.loc[:, tetsSecond.columns != 'Treatment']\n",
    "testSecondLabels = tetsSecond['Treatment']\n",
    "\n",
    "predictionsSecond = naiveBayes2.predict(tetsSecondFeatures)\n",
    "print(classification_report(testSecondLabels.values,predictionsSecond))\n",
    "\n",
    "ConfusionMatrixDisplay.from_predictions(testSecondLabels.values,predictionsSecond)\n",
    "plt.show()"
   ]
  },
  {
   "cell_type": "code",
   "execution_count": 68,
   "metadata": {},
   "outputs": [
    {
     "name": "stdout",
     "output_type": "stream",
     "text": [
      "              precision    recall  f1-score   support\n",
      "\n",
      "         1.0       0.50      0.43      0.46       128\n",
      "         2.0       0.60      0.10      0.17        30\n",
      "         3.0       0.06      0.25      0.10         8\n",
      "         5.0       0.53      0.60      0.56       141\n",
      "\n",
      "    accuracy                           0.47       307\n",
      "   macro avg       0.42      0.34      0.32       307\n",
      "weighted avg       0.51      0.47      0.47       307\n",
      "\n"
     ]
    },
    {
     "data": {
      "image/png": "[encoded data removed]",
      "text/plain": [
       "<Figure size 432x288 with 2 Axes>"
      ]
     },
     "metadata": {
      "needs_background": "light"
     },
     "output_type": "display_data"
    },
    {
     "data": {
      "text/plain": [
       "0.35655836341756914"
      ]
     },
     "execution_count": 68,
     "metadata": {},
     "output_type": "execute_result"
    }
   ],
   "source": [
    "# Combined naive bayes test\n",
    "testSetFeatures = testSet.loc[:, trainingSet.columns != 'Treatment']\n",
    "testSetLabels = testSet['Treatment']\n",
    "\n",
    "predictions1 = naiveBayes1.predict(testSetFeatures)\n",
    "testSetPred = testSet.copy()\n",
    "testSetPred.loc[:,'Treatment'] = predictions1\n",
    "\n",
    "testSetPredOthers = testSetPred.loc[testSetPred['Treatment'] == -1,]\n",
    "testSetPredOthersFeatures = testSetPredOthers.loc[:, testSetPredOthers.columns != 'Treatment']\n",
    "predictions2 = naiveBayes2.predict(testSetPredOthersFeatures)\n",
    "\n",
    "testSetPred.loc[testSetPred['Treatment'] == -1,'Treatment'] = predictions2\n",
    "\n",
    "finalPredictions = testSetPred['Treatment'].values\n",
    "\n",
    "print(classification_report(testSetLabels.values,finalPredictions))\n",
    "\n",
    "ConfusionMatrixDisplay.from_predictions(testSetLabels.values,finalPredictions)\n",
    "plt.show()\n",
    "\n",
    "fpr, tpr, thresholds = metrics.roc_curve(testSetLabels.values, finalPredictions, pos_label=2)\n",
    "metrics.auc(fpr, tpr)"
   ]
  }
 ],
 "metadata": {
  "interpreter": {
   "hash": "aee8b7b246df8f9039afb4144a1f6fd8d2ca17a180786b69acc140d282b71a49"
  },
  "kernelspec": {
   "display_name": "Python 3.9.1 64-bit",
   "language": "python",
   "name": "python3"
  },
  "language_info": {
   "codemirror_mode": {
    "name": "ipython",
    "version": 3
   },
   "file_extension": ".py",
   "mimetype": "text/x-python",
   "name": "python",
   "nbconvert_exporter": "python",
   "pygments_lexer": "ipython3",
   "version": "3.9.1"
  },
  "orig_nbformat": 4
 },
 "nbformat": 4,
 "nbformat_minor": 2
}
