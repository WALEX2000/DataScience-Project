{
 "cells": [
  {
   "cell_type": "code",
   "execution_count": 17,
   "id": "82998fcd",
   "metadata": {},
   "outputs": [],
   "source": [
    "import pandas as pd # needed for most operation\n",
    "import numpy as np # needed for some array operations\n",
    "from sklearn.model_selection import train_test_split\n",
    "import pickle\n",
    "pd.__version__\n",
    "\n",
    "from sklearn.metrics import classification_report, confusion_matrix\n",
    "from sklearn.tree import DecisionTreeClassifier\n",
    "from sklearn.model_selection import cross_val_score\n",
    "from sklearn import tree\n",
    "import matplotlib.pyplot as plt\n"
   ]
  },
  {
   "cell_type": "code",
   "execution_count": 22,
   "id": "f18d2f8e",
   "metadata": {},
   "outputs": [],
   "source": [
    "data = pd.read_pickle(\"../data/finalData_1\")\n",
    "pd.set_option('display.max_columns', None)\n",
    "pd.set_option('display.max_rows', None)\n"
   ]
  },
  {
   "cell_type": "code",
   "execution_count": 21,
   "id": "56db3be8",
   "metadata": {},
   "outputs": [
    {
     "name": "stdout",
     "output_type": "stream",
     "text": [
      "1.0.2\n"
     ]
    }
   ],
   "source": [
    "\n",
    "# select X and Y\n",
    "\n",
    "\n",
    "# X_train, X_test, y_train, y_test = train_test_split(X, y, test_size=0.33, random_state=42)\n",
    "#model_tree = DecisionTreeClassifier(max_depth=5)\n",
    "#model_tree = model_tree.fit(X_train, Y_train)\n",
    "#plt.figure(figsize=(30,30)) # set plot size (denoted in inches)\n",
    "#tree.plot_tree(model_tree, fontsize=8)\n",
    "#plt.show()\n",
    "\n",
    "#AIXO FERHO AMB TRAINING O TEST SET? DESPRES PODEM CROSS VALIDAR\n",
    "#y_predict = model.predict(births_X)\n",
    "#print(classification_report(births_Y,y_predict))\n",
    "\n",
    "#tree_cv = cross_val_score(model_tree,X_train,y=Y_train, cv=10)\n",
    "#np.mean(tree_cv)\n",
    "\n",
    "# print(confusion_matrix(y_test, y_predict))\n",
    "#print(classification_report(y_test, y_predict))\n",
    "#accuracy_score(y_true, y_pred, *, normalize=True, sample_weight=None)\n",
    "\n",
    "#importances = model_tree.feature_importances_"
   ]
  }
 ],
 "metadata": {
  "kernelspec": {
   "display_name": "Python 3 (ipykernel)",
   "language": "python",
   "name": "python3"
  },
  "language_info": {
   "codemirror_mode": {
    "name": "ipython",
    "version": 3
   },
   "file_extension": ".py",
   "mimetype": "text/x-python",
   "name": "python",
   "nbconvert_exporter": "python",
   "pygments_lexer": "ipython3",
   "version": "3.9.7"
  }
 },
 "nbformat": 4,
 "nbformat_minor": 5
}
