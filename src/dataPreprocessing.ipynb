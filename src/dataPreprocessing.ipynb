{
 "cells": [
  {
   "cell_type": "code",
   "execution_count": 10,
   "metadata": {},
   "outputs": [],
   "source": [
    "# Import libraries\n",
    "import pandas as pd # needed for most operation\n",
    "import numpy as np # needed for some array operations\n",
    "from matplotlib import pyplot as plt #used for plots\n",
    "import seaborn as sns\n",
    "import datawig\n",
    "import sklearn.metrics as metrics\n",
    "from sklearn.model_selection import train_test_split\n",
    "from importlib import reload"
   ]
  },
  {
   "cell_type": "code",
   "execution_count": 106,
   "metadata": {},
   "outputs": [
    {
     "data": {
      "text/html": [
       "<div>\n",
       "<style scoped>\n",
       "    .dataframe tbody tr th:only-of-type {\n",
       "        vertical-align: middle;\n",
       "    }\n",
       "\n",
       "    .dataframe tbody tr th {\n",
       "        vertical-align: top;\n",
       "    }\n",
       "\n",
       "    .dataframe thead th {\n",
       "        text-align: right;\n",
       "    }\n",
       "</style>\n",
       "<table border=\"1\" class=\"dataframe\">\n",
       "  <thead>\n",
       "    <tr style=\"text-align: right;\">\n",
       "      <th></th>\n",
       "      <th>Treatment</th>\n",
       "      <th>Fever</th>\n",
       "      <th>Duration_of_pain</th>\n",
       "      <th>Sick_leave</th>\n",
       "      <th>Earlier_hospitalization</th>\n",
       "      <th>Workoverload</th>\n",
       "      <th>Familiy_history</th>\n",
       "      <th>Depression</th>\n",
       "      <th>Extremely_nervous</th>\n",
       "      <th>Stress</th>\n",
       "      <th>...</th>\n",
       "      <th>Failure_symptoms</th>\n",
       "      <th>Incoordination</th>\n",
       "      <th>neck_pain_intensity</th>\n",
       "      <th>low_back_pain_intensity</th>\n",
       "      <th>arm_left_pain_intensity</th>\n",
       "      <th>arm_right_pain_intensity</th>\n",
       "      <th>leg_left_pain_intensity</th>\n",
       "      <th>leg_right_pain_intensity</th>\n",
       "      <th>working_ability</th>\n",
       "      <th>Paidwork</th>\n",
       "    </tr>\n",
       "  </thead>\n",
       "  <tbody>\n",
       "    <tr>\n",
       "      <th>0</th>\n",
       "      <td>1</td>\n",
       "      <td>1.0</td>\n",
       "      <td>10.0</td>\n",
       "      <td>0</td>\n",
       "      <td>1</td>\n",
       "      <td>NaN</td>\n",
       "      <td>0</td>\n",
       "      <td>0</td>\n",
       "      <td>0.0</td>\n",
       "      <td>0</td>\n",
       "      <td>...</td>\n",
       "      <td>1</td>\n",
       "      <td>NaN</td>\n",
       "      <td>0</td>\n",
       "      <td>8</td>\n",
       "      <td>8</td>\n",
       "      <td>7</td>\n",
       "      <td>6</td>\n",
       "      <td>6</td>\n",
       "      <td>NaN</td>\n",
       "      <td>0</td>\n",
       "    </tr>\n",
       "    <tr>\n",
       "      <th>1</th>\n",
       "      <td>3</td>\n",
       "      <td>1.0</td>\n",
       "      <td>10.0</td>\n",
       "      <td>0</td>\n",
       "      <td>1</td>\n",
       "      <td>0.0</td>\n",
       "      <td>1</td>\n",
       "      <td>0</td>\n",
       "      <td>0.0</td>\n",
       "      <td>1</td>\n",
       "      <td>...</td>\n",
       "      <td>1</td>\n",
       "      <td>1.0</td>\n",
       "      <td>7</td>\n",
       "      <td>8</td>\n",
       "      <td>7</td>\n",
       "      <td>4</td>\n",
       "      <td>0</td>\n",
       "      <td>0</td>\n",
       "      <td>7.0</td>\n",
       "      <td>1</td>\n",
       "    </tr>\n",
       "    <tr>\n",
       "      <th>2</th>\n",
       "      <td>1</td>\n",
       "      <td>1.0</td>\n",
       "      <td>10.0</td>\n",
       "      <td>0</td>\n",
       "      <td>1</td>\n",
       "      <td>NaN</td>\n",
       "      <td>0</td>\n",
       "      <td>0</td>\n",
       "      <td>6.0</td>\n",
       "      <td>1</td>\n",
       "      <td>...</td>\n",
       "      <td>1</td>\n",
       "      <td>0.0</td>\n",
       "      <td>3</td>\n",
       "      <td>5</td>\n",
       "      <td>0</td>\n",
       "      <td>2</td>\n",
       "      <td>0</td>\n",
       "      <td>3</td>\n",
       "      <td>NaN</td>\n",
       "      <td>0</td>\n",
       "    </tr>\n",
       "    <tr>\n",
       "      <th>3</th>\n",
       "      <td>5</td>\n",
       "      <td>1.0</td>\n",
       "      <td>10.0</td>\n",
       "      <td>0</td>\n",
       "      <td>1</td>\n",
       "      <td>NaN</td>\n",
       "      <td>0</td>\n",
       "      <td>0</td>\n",
       "      <td>1.0</td>\n",
       "      <td>1</td>\n",
       "      <td>...</td>\n",
       "      <td>0</td>\n",
       "      <td>NaN</td>\n",
       "      <td>2</td>\n",
       "      <td>9</td>\n",
       "      <td>0</td>\n",
       "      <td>0</td>\n",
       "      <td>9</td>\n",
       "      <td>5</td>\n",
       "      <td>NaN</td>\n",
       "      <td>0</td>\n",
       "    </tr>\n",
       "    <tr>\n",
       "      <th>4</th>\n",
       "      <td>1</td>\n",
       "      <td>1.0</td>\n",
       "      <td>10.0</td>\n",
       "      <td>0</td>\n",
       "      <td>1</td>\n",
       "      <td>NaN</td>\n",
       "      <td>0</td>\n",
       "      <td>0</td>\n",
       "      <td>0.0</td>\n",
       "      <td>1</td>\n",
       "      <td>...</td>\n",
       "      <td>1</td>\n",
       "      <td>NaN</td>\n",
       "      <td>0</td>\n",
       "      <td>7</td>\n",
       "      <td>5</td>\n",
       "      <td>0</td>\n",
       "      <td>0</td>\n",
       "      <td>0</td>\n",
       "      <td>NaN</td>\n",
       "      <td>0</td>\n",
       "    </tr>\n",
       "  </tbody>\n",
       "</table>\n",
       "<p>5 rows × 37 columns</p>\n",
       "</div>"
      ],
      "text/plain": [
       "   Treatment  Fever  Duration_of_pain  Sick_leave  Earlier_hospitalization  \\\n",
       "0          1    1.0              10.0           0                        1   \n",
       "1          3    1.0              10.0           0                        1   \n",
       "2          1    1.0              10.0           0                        1   \n",
       "3          5    1.0              10.0           0                        1   \n",
       "4          1    1.0              10.0           0                        1   \n",
       "\n",
       "   Workoverload  Familiy_history  Depression  Extremely_nervous  Stress  ...  \\\n",
       "0           NaN                0           0                0.0       0  ...   \n",
       "1           0.0                1           0                0.0       1  ...   \n",
       "2           NaN                0           0                6.0       1  ...   \n",
       "3           NaN                0           0                1.0       1  ...   \n",
       "4           NaN                0           0                0.0       1  ...   \n",
       "\n",
       "   Failure_symptoms  Incoordination  neck_pain_intensity  \\\n",
       "0                 1             NaN                    0   \n",
       "1                 1             1.0                    7   \n",
       "2                 1             0.0                    3   \n",
       "3                 0             NaN                    2   \n",
       "4                 1             NaN                    0   \n",
       "\n",
       "   low_back_pain_intensity  arm_left_pain_intensity  arm_right_pain_intensity  \\\n",
       "0                        8                        8                         7   \n",
       "1                        8                        7                         4   \n",
       "2                        5                        0                         2   \n",
       "3                        9                        0                         0   \n",
       "4                        7                        5                         0   \n",
       "\n",
       "  leg_left_pain_intensity  leg_right_pain_intensity  working_ability  Paidwork  \n",
       "0                       6                         6              NaN         0  \n",
       "1                       0                         0              7.0         1  \n",
       "2                       0                         3              NaN         0  \n",
       "3                       9                         5              NaN         0  \n",
       "4                       0                         0              NaN         0  \n",
       "\n",
       "[5 rows x 37 columns]"
      ]
     },
     "execution_count": 106,
     "metadata": {},
     "output_type": "execute_result"
    }
   ],
   "source": [
    "# Fetch Data\n",
    "data = pd.read_csv('../data/RA_data.csv')\n",
    "data.describe()\n",
    "data.head()"
   ]
  },
  {
   "cell_type": "code",
   "execution_count": 107,
   "metadata": {},
   "outputs": [],
   "source": [
    "# Drop columns\n",
    "finalData = data.copy()\n",
    "finalData.drop(labels='Workoverload',axis=1, inplace=True)\n",
    "finalData.drop(labels='Relationship_with_colleagues',axis=1, inplace=True)\n",
    "finalData.drop(labels='Trauma',axis=1, inplace=True)\n",
    "finalData.drop(labels='working_ability',axis=1, inplace=True)"
   ]
  },
  {
   "cell_type": "code",
   "execution_count": 108,
   "metadata": {},
   "outputs": [],
   "source": [
    "# Remove rows that have Treatment 4\n",
    "finalData = finalData[finalData['Treatment'] != 4]"
   ]
  },
  {
   "cell_type": "code",
   "execution_count": 109,
   "metadata": {},
   "outputs": [],
   "source": [
    "# Turn age into numerical value\n",
    "ageMap = {'0-19': 1, '20-29': 2, '30-39': 3, '40-49': 4, '50-59': 5, '60-69': 6, '70-79': 7, '>=80': 8}\n",
    "finalData['Age'] = finalData['Age'].map(ageMap)"
   ]
  },
  {
   "cell_type": "code",
   "execution_count": 69,
   "metadata": {},
   "outputs": [],
   "source": [
    "dfCount = finalData.describe().loc['count']\n",
    "numRows = finalData.shape[0]\n",
    "\n",
    "outputs = dfCount.loc[dfCount.values < numRows]\n",
    "outputs = list(outputs.index)\n",
    "\n",
    "inputs = dfCount.loc[dfCount.values == numRows]\n",
    "inputs = list(inputs.index)"
   ]
  },
  {
   "cell_type": "code",
   "execution_count": 110,
   "metadata": {},
   "outputs": [],
   "source": [
    "finalData = finalData.fillna('')\n",
    "finalData[outputs[:]] = finalData[outputs[:]].astype(str)"
   ]
  },
  {
   "cell_type": "code",
   "execution_count": null,
   "metadata": {},
   "outputs": [],
   "source": [
    "df_train, df_test = train_test_split(finalData, test_size=0.1, random_state=0)\n",
    "imputedData = finalData\n",
    "for output in outputs:\n",
    "    imputer = datawig.SimpleImputer(\n",
    "        input_columns= inputs,\n",
    "        output_column= output,\n",
    "        output_path= \"./imputerModels/simpleModel_\"+output,\n",
    "    )\n",
    "\n",
    "    imputer.fit(train_df=df_train)"
   ]
  },
  {
   "cell_type": "code",
   "execution_count": 159,
   "metadata": {},
   "outputs": [
    {
     "name": "stderr",
     "output_type": "stream",
     "text": [
      "[14:33:50] ../src/executor/graph_executor.cc:1995: Subgraph backend MKLDNN is activated.\n"
     ]
    },
    {
     "name": "stdout",
     "output_type": "stream",
     "text": [
      "Fever scores:\n",
      "              precision    recall  f1-score   support\n",
      "\n",
      "                   0.00      0.00      0.00         1\n",
      "         0.0       0.96      0.97      0.97       115\n",
      "         1.0       0.92      0.89      0.91        38\n",
      "\n",
      "    accuracy                           0.95       154\n",
      "   macro avg       0.63      0.62      0.62       154\n",
      "weighted avg       0.94      0.95      0.94       154\n",
      "\n"
     ]
    },
    {
     "name": "stderr",
     "output_type": "stream",
     "text": [
      "[14:33:51] ../src/executor/graph_executor.cc:1995: Subgraph backend MKLDNN is activated.\n"
     ]
    },
    {
     "name": "stdout",
     "output_type": "stream",
     "text": [
      "Duration_of_pain scores:\n",
      "              precision    recall  f1-score   support\n",
      "\n",
      "                   0.00      0.00      0.00         3\n",
      "        10.0       0.75      0.95      0.84       114\n",
      "         3.0       0.00      0.00      0.00         0\n",
      "         4.0       0.00      0.00      0.00         1\n",
      "         5.0       0.00      0.00      0.00         2\n",
      "         6.0       0.00      0.00      0.00         2\n",
      "         7.0       0.17      0.12      0.14         8\n",
      "         8.0       1.00      0.07      0.13        14\n",
      "         9.0       0.00      0.00      0.00        10\n",
      "\n",
      "    accuracy                           0.71       154\n",
      "   macro avg       0.21      0.13      0.12       154\n",
      "weighted avg       0.65      0.71      0.64       154\n",
      "\n"
     ]
    },
    {
     "name": "stderr",
     "output_type": "stream",
     "text": [
      "[14:33:51] ../src/executor/graph_executor.cc:1995: Subgraph backend MKLDNN is activated.\n"
     ]
    },
    {
     "name": "stdout",
     "output_type": "stream",
     "text": [
      "Extremely_nervous scores:\n",
      "              precision    recall  f1-score   support\n",
      "\n",
      "                   0.00      0.00      0.00         3\n",
      "         0.0       0.34      0.96      0.51        48\n",
      "         1.0       0.00      0.00      0.00        24\n",
      "        10.0       0.00      0.00      0.00         3\n",
      "         2.0       0.00      0.00      0.00         8\n",
      "         3.0       0.00      0.00      0.00         6\n",
      "         4.0       0.00      0.00      0.00         8\n",
      "         5.0       0.00      0.00      0.00        11\n",
      "         6.0       0.00      0.00      0.00         9\n",
      "         7.0       0.57      0.29      0.38        14\n",
      "         8.0       0.00      0.00      0.00        18\n",
      "         9.0       0.00      0.00      0.00         2\n",
      "\n",
      "    accuracy                           0.32       154\n",
      "   macro avg       0.08      0.10      0.07       154\n",
      "weighted avg       0.16      0.32      0.19       154\n",
      "\n"
     ]
    },
    {
     "name": "stderr",
     "output_type": "stream",
     "text": [
      "[14:33:51] ../src/executor/graph_executor.cc:1995: Subgraph backend MKLDNN is activated.\n"
     ]
    },
    {
     "name": "stdout",
     "output_type": "stream",
     "text": [
      "Irrational_thoughts_risk_lasting scores:\n",
      "              precision    recall  f1-score   support\n",
      "\n",
      "                   0.00      0.00      0.00         5\n",
      "         0.0       0.00      0.00      0.00         0\n",
      "         1.0       0.00      0.00      0.00         3\n",
      "        10.0       0.42      0.62      0.50        24\n",
      "         2.0       0.00      0.00      0.00         3\n",
      "         3.0       1.00      0.33      0.50         6\n",
      "         4.0       0.33      0.12      0.18         8\n",
      "         5.0       0.36      0.81      0.49        26\n",
      "         6.0       0.33      0.06      0.10        17\n",
      "         7.0       0.50      0.50      0.50        20\n",
      "         8.0       0.58      0.42      0.49        26\n",
      "         9.0       0.27      0.19      0.22        16\n",
      "\n",
      "    accuracy                           0.42       154\n",
      "   macro avg       0.32      0.26      0.25       154\n",
      "weighted avg       0.41      0.42      0.37       154\n",
      "\n"
     ]
    },
    {
     "name": "stderr",
     "output_type": "stream",
     "text": [
      "[14:33:51] ../src/executor/graph_executor.cc:1995: Subgraph backend MKLDNN is activated.\n"
     ]
    },
    {
     "name": "stdout",
     "output_type": "stream",
     "text": [
      "Irrational_thoughts_work scores:\n",
      "              precision    recall  f1-score   support\n",
      "\n",
      "                   0.00      0.00      0.00        12\n",
      "         0.0       0.12      0.33      0.18         9\n",
      "         1.0       0.50      0.09      0.15        11\n",
      "        10.0       0.64      0.61      0.62        38\n",
      "         2.0       0.08      0.20      0.12         5\n",
      "         3.0       0.00      0.00      0.00        11\n",
      "         4.0       0.00      0.00      0.00         1\n",
      "         5.0       0.27      0.27      0.27        15\n",
      "         6.0       0.05      0.12      0.07         8\n",
      "         7.0       0.36      0.42      0.38        12\n",
      "         8.0       0.42      0.50      0.46        16\n",
      "         9.0       0.38      0.31      0.34        16\n",
      "\n",
      "    accuracy                           0.33       154\n",
      "   macro avg       0.24      0.24      0.22       154\n",
      "weighted avg       0.34      0.33      0.32       154\n",
      "\n"
     ]
    },
    {
     "name": "stderr",
     "output_type": "stream",
     "text": [
      "[14:33:52] ../src/executor/graph_executor.cc:1995: Subgraph backend MKLDNN is activated.\n"
     ]
    },
    {
     "name": "stdout",
     "output_type": "stream",
     "text": [
      "Coping_strategy scores:\n",
      "              precision    recall  f1-score   support\n",
      "\n",
      "                   0.00      0.00      0.00         5\n",
      "         0.0       0.34      0.42      0.38        24\n",
      "         1.0       0.00      0.00      0.00         4\n",
      "        10.0       0.00      0.00      0.00         5\n",
      "         2.0       0.40      0.71      0.51        24\n",
      "         3.0       0.11      0.06      0.08        16\n",
      "         4.0       0.31      0.29      0.30        14\n",
      "         5.0       0.28      0.45      0.35        20\n",
      "         6.0       0.60      0.18      0.27        17\n",
      "         7.0       0.45      0.45      0.45        11\n",
      "         8.0       0.00      0.00      0.00         8\n",
      "         9.0       0.00      0.00      0.00         6\n",
      "\n",
      "    accuracy                           0.32       154\n",
      "   macro avg       0.21      0.21      0.19       154\n",
      "weighted avg       0.29      0.32      0.28       154\n",
      "\n"
     ]
    },
    {
     "name": "stderr",
     "output_type": "stream",
     "text": [
      "[14:33:52] ../src/executor/graph_executor.cc:1995: Subgraph backend MKLDNN is activated.\n"
     ]
    },
    {
     "name": "stdout",
     "output_type": "stream",
     "text": [
      "Kinesiophobia_physical_exercise scores:\n",
      "              precision    recall  f1-score   support\n",
      "\n",
      "                   0.00      0.00      0.00         2\n",
      "         0.0       0.00      0.00      0.00         1\n",
      "         1.0       0.00      0.00      0.00         1\n",
      "        10.0       0.68      0.87      0.76        53\n",
      "         2.0       0.00      0.00      0.00         3\n",
      "         3.0       0.33      0.25      0.29         4\n",
      "         4.0       0.00      0.00      0.00         2\n",
      "         5.0       0.00      0.00      0.00        10\n",
      "         6.0       0.20      0.17      0.18         6\n",
      "         7.0       0.43      0.43      0.43        14\n",
      "         8.0       0.50      0.47      0.48        34\n",
      "         9.0       0.50      0.58      0.54        24\n",
      "\n",
      "    accuracy                           0.55       154\n",
      "   macro avg       0.22      0.23      0.22       154\n",
      "weighted avg       0.48      0.55      0.51       154\n",
      "\n"
     ]
    },
    {
     "name": "stderr",
     "output_type": "stream",
     "text": [
      "[14:33:52] ../src/executor/graph_executor.cc:1995: Subgraph backend MKLDNN is activated.\n"
     ]
    },
    {
     "name": "stdout",
     "output_type": "stream",
     "text": [
      "Kinesiophobia_pain_stop scores:\n",
      "              precision    recall  f1-score   support\n",
      "\n",
      "                   0.00      0.00      0.00         2\n",
      "         0.0       0.00      0.00      0.00         4\n",
      "         1.0       0.00      0.00      0.00         2\n",
      "        10.0       0.52      0.96      0.68        47\n",
      "         2.0       0.00      0.00      0.00         4\n",
      "         3.0       0.00      0.00      0.00         6\n",
      "         4.0       0.00      0.00      0.00         3\n",
      "         5.0       0.29      0.22      0.25         9\n",
      "         6.0       0.00      0.00      0.00         6\n",
      "         7.0       0.50      0.12      0.19        17\n",
      "         8.0       0.62      0.74      0.68        34\n",
      "         9.0       0.46      0.30      0.36        20\n",
      "\n",
      "    accuracy                           0.52       154\n",
      "   macro avg       0.20      0.19      0.18       154\n",
      "weighted avg       0.43      0.52      0.44       154\n",
      "\n"
     ]
    },
    {
     "name": "stderr",
     "output_type": "stream",
     "text": [
      "[14:33:53] ../src/executor/graph_executor.cc:1995: Subgraph backend MKLDNN is activated.\n"
     ]
    },
    {
     "name": "stdout",
     "output_type": "stream",
     "text": [
      "Uses_corticosteroids scores:\n",
      "              precision    recall  f1-score   support\n",
      "\n",
      "                   0.00      0.00      0.00         3\n",
      "         0.0       0.89      0.96      0.93       105\n",
      "         1.0       0.85      0.76      0.80        46\n",
      "\n",
      "    accuracy                           0.88       154\n",
      "   macro avg       0.58      0.57      0.58       154\n",
      "weighted avg       0.86      0.88      0.87       154\n",
      "\n"
     ]
    },
    {
     "name": "stderr",
     "output_type": "stream",
     "text": [
      "[14:33:53] ../src/executor/graph_executor.cc:1995: Subgraph backend MKLDNN is activated.\n"
     ]
    },
    {
     "name": "stdout",
     "output_type": "stream",
     "text": [
      "Serious_disease scores:\n",
      "              precision    recall  f1-score   support\n",
      "\n",
      "                   0.00      0.00      0.00         2\n",
      "         0.0       0.90      0.95      0.93       108\n",
      "         1.0       0.85      0.77      0.81        44\n",
      "\n",
      "    accuracy                           0.89       154\n",
      "   macro avg       0.58      0.58      0.58       154\n",
      "weighted avg       0.88      0.89      0.88       154\n",
      "\n"
     ]
    },
    {
     "name": "stderr",
     "output_type": "stream",
     "text": [
      "[14:33:53] ../src/executor/graph_executor.cc:1995: Subgraph backend MKLDNN is activated.\n"
     ]
    },
    {
     "name": "stdout",
     "output_type": "stream",
     "text": [
      "Weightloss_per_year scores:\n",
      "              precision    recall  f1-score   support\n",
      "\n",
      "                   0.00      0.00      0.00         6\n",
      "         1.0       0.21      0.17      0.19        24\n",
      "         2.0       0.67      0.42      0.52        33\n",
      "         3.0       0.61      0.90      0.72        67\n",
      "         4.0       0.53      0.33      0.41        24\n",
      "\n",
      "    accuracy                           0.56       154\n",
      "   macro avg       0.40      0.36      0.37       154\n",
      "weighted avg       0.52      0.56      0.52       154\n",
      "\n"
     ]
    },
    {
     "name": "stderr",
     "output_type": "stream",
     "text": [
      "[14:33:53] ../src/executor/graph_executor.cc:1995: Subgraph backend MKLDNN is activated.\n"
     ]
    },
    {
     "name": "stdout",
     "output_type": "stream",
     "text": [
      "Loss_muscle_strength scores:\n",
      "              precision    recall  f1-score   support\n",
      "\n",
      "                   0.00      0.00      0.00         3\n",
      "         0.0       0.80      0.81      0.80        68\n",
      "         1.0       0.82      0.84      0.83        83\n",
      "\n",
      "    accuracy                           0.81       154\n",
      "   macro avg       0.54      0.55      0.55       154\n",
      "weighted avg       0.80      0.81      0.80       154\n",
      "\n",
      "Incoordination scores:\n",
      "              precision    recall  f1-score   support\n",
      "\n",
      "                   0.00      0.00      0.00        26\n",
      "         0.0       0.74      0.88      0.80        85\n",
      "         1.0       0.62      0.74      0.67        43\n",
      "\n",
      "    accuracy                           0.69       154\n",
      "   macro avg       0.45      0.54      0.49       154\n",
      "weighted avg       0.58      0.69      0.63       154\n",
      "\n"
     ]
    },
    {
     "name": "stderr",
     "output_type": "stream",
     "text": [
      "[14:33:54] ../src/executor/graph_executor.cc:1995: Subgraph backend MKLDNN is activated.\n"
     ]
    }
   ],
   "source": [
    "# Test imputation accuracy\n",
    "for output in outputs:\n",
    "    outputModel = datawig.SimpleImputer.load(\"./imputerModels/simpleModel_\"+output)\n",
    "    predictions = outputModel.predict(df_test)\n",
    "    print(output+\" scores:\")\n",
    "    #Calculate f1 score\n",
    "    f1 = metrics.f1_score(predictions[output], predictions[output+'_imputed'], average='weighted')\n",
    "    #print(f1)\n",
    "\n",
    "    #Print overall classification report\n",
    "    print(metrics.classification_report(predictions[output], predictions[output+'_imputed'], zero_division=0))"
   ]
  },
  {
   "cell_type": "code",
   "execution_count": null,
   "metadata": {},
   "outputs": [],
   "source": [
    "# Fill a new data set with the imputed models\n",
    "imputedData = finalData.copy()\n",
    "for output in outputs:\n",
    "    outputModel = datawig.SimpleImputer.load(\"./imputerModels/simpleModel_\"+output)\n",
    "    predictions = outputModel.predict(finalData)\n",
    "    imputedData.loc[imputedData[output] == \"\",output] = predictions.loc[predictions[output] == \"\",output+\"_imputed\"]"
   ]
  },
  {
   "cell_type": "code",
   "execution_count": 149,
   "metadata": {},
   "outputs": [],
   "source": [
    "# Save the data into a file\n",
    "imputedData.to_pickle('../data/imputedData_1')"
   ]
  }
 ],
 "metadata": {
  "interpreter": {
   "hash": "aee8b7b246df8f9039afb4144a1f6fd8d2ca17a180786b69acc140d282b71a49"
  },
  "kernelspec": {
   "display_name": "Python 3.9.1 64-bit",
   "language": "python",
   "name": "python3"
  },
  "language_info": {
   "codemirror_mode": {
    "name": "ipython",
    "version": 3
   },
   "file_extension": ".py",
   "mimetype": "text/x-python",
   "name": "python",
   "nbconvert_exporter": "python",
   "pygments_lexer": "ipython3",
   "version": "3.9.1"
  },
  "orig_nbformat": 4
 },
 "nbformat": 4,
 "nbformat_minor": 2
}
