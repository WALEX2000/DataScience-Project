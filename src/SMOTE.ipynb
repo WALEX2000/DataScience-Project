{
 "cells": [
  {
   "cell_type": "code",
   "execution_count": 1,
   "metadata": {},
   "outputs": [],
   "source": [
    "# To deal with the class imbalance issue let's use SMOTE to oversample the minority classes\n",
    "import imblearn\n",
    "import pandas as pd # needed for most operation\n",
    "from imblearn.over_sampling import SMOTE\n",
    "from imblearn.under_sampling import RandomUnderSampler\n",
    "from imblearn.pipeline import Pipeline\n",
    "from collections import Counter"
   ]
  },
  {
   "cell_type": "code",
   "execution_count": 14,
   "metadata": {},
   "outputs": [
    {
     "name": "stdout",
     "output_type": "stream",
     "text": [
      "Original dataset shape Counter({1.0: 659, 5.0: 649, 2.0: 160, 3.0: 65})\n"
     ]
    }
   ],
   "source": [
    "# Load imputed dataset\n",
    "pd.set_option('display.max_columns', None)\n",
    "pd.set_option('display.max_rows', None)\n",
    "data = pd.read_pickle(\"../data/IterImput\")\n",
    "print('Original dataset shape %s' % Counter(data[\"Treatment\"]))"
   ]
  },
  {
   "cell_type": "code",
   "execution_count": 11,
   "metadata": {},
   "outputs": [
    {
     "name": "stdout",
     "output_type": "stream",
     "text": [
      "Original dataset shape Counter({1.0: 228, 5.0: 195, 2.0: 73, 3.0: 10})\n"
     ]
    }
   ],
   "source": [
    "# Generate Data only for employed people (uncomment to change)\n",
    "data = data.loc[data.Paidwork == 1,:]\n",
    "print('Original dataset shape %s' % Counter(data[\"Treatment\"]))\n",
    "nSamplesOver = {1.0: 228, 5.0: 195, 2.0: 100, 3.0: 100}\n",
    "nSamplesFinal = {1.0: 150, 5.0: 150, 2.0: 100, 3.0: 100}\n",
    "\n",
    "#nSamplesOver = {1.0: 659, 5.0: 649, 2.0: 200, 3.0: 200}\n",
    "#nSamplesFinal = {1.0: 400, 5.0: 400, 2.0: 200, 3.0: 200}"
   ]
  },
  {
   "cell_type": "code",
   "execution_count": null,
   "metadata": {},
   "outputs": [],
   "source": [
    "over = SMOTE(random_state=42, sampling_strategy=nSamplesOver)\n",
    "under = RandomUnderSampler(random_state=42, sampling_strategy=nSamplesFinal)\n",
    "steps = [('o', over), ('u', under)]\n",
    "pipeline = Pipeline(steps=steps)\n",
    "x_res, y_res = pipeline.fit_resample(data.loc[:, data.columns != \"Treatment\"], data[\"Treatment\"])\n",
    "print('Resampled dataset shape %s' % Counter(y_res))\n",
    "\n",
    "finalData = pd.merge(y_res, x_res, left_index=True, right_index=True)\n",
    "finalData.head()"
   ]
  },
  {
   "cell_type": "code",
   "execution_count": 16,
   "metadata": {},
   "outputs": [
    {
     "name": "stdout",
     "output_type": "stream",
     "text": [
      "Original dataset shape Counter({1.0: 228, 5.0: 195, 2.0: 73, 3.0: 10})\n"
     ]
    }
   ],
   "source": [
    "data = data.loc[data.Paidwork == 1,:]\n",
    "print('Original dataset shape %s' % Counter(data[\"Treatment\"]))\n",
    "data.to_pickle('../data/EmployedUnbalanced')"
   ]
  },
  {
   "cell_type": "code",
   "execution_count": 13,
   "metadata": {},
   "outputs": [],
   "source": [
    "#finalData.to_pickle('../data/SmoteData')\n",
    "finalData.to_pickle('../data/EmployedSmote')"
   ]
  }
 ],
 "metadata": {
  "interpreter": {
   "hash": "aee8b7b246df8f9039afb4144a1f6fd8d2ca17a180786b69acc140d282b71a49"
  },
  "kernelspec": {
   "display_name": "Python 3.9.1 64-bit",
   "language": "python",
   "name": "python3"
  },
  "language_info": {
   "codemirror_mode": {
    "name": "ipython",
    "version": 3
   },
   "file_extension": ".py",
   "mimetype": "text/x-python",
   "name": "python",
   "nbconvert_exporter": "python",
   "pygments_lexer": "ipython3",
   "version": "3.9.1"
  },
  "orig_nbformat": 4
 },
 "nbformat": 4,
 "nbformat_minor": 2
}
